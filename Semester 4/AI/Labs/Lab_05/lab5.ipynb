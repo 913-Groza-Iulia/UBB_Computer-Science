{
 "cells": [
  {
   "cell_type": "code",
   "execution_count": 1,
   "id": "671cc7a3-0270-4056-9dc9-ff13538a1247",
   "metadata": {},
   "outputs": [],
   "source": [
    "import torch\n",
    "import torch.nn as nn\n",
    "from collections import OrderedDict"
   ]
  },
  {
   "cell_type": "code",
   "execution_count": 2,
   "id": "6fc23fdd-cce5-4c6a-b705-050ba82ae607",
   "metadata": {},
   "outputs": [],
   "source": [
    "model1 = nn.Sequential(OrderedDict([\n",
    "    ('hidden_net', nn.Linear(2,32)),\n",
    "    ('hidden_act', nn.Sigmoid()),\n",
    "    ('output_net', nn.Linear(32,2)),\n",
    "    ('output_act', nn.Sigmoid())\n",
    "]))\n",
    "model2 = nn.Sequential(OrderedDict([\n",
    "    ('hidden_net', nn.Linear(2,8)),\n",
    "    ('hidden_act', nn.ReLU()),\n",
    "    ('output_net', nn.Linear(8,2)),\n",
    "    ('output_act', nn.Sigmoid())\n",
    "]))\n",
    "model3 = nn.Sequential(OrderedDict([\n",
    "    ('hidden_net', nn.Linear(2,16)),\n",
    "    ('hidden_act', nn.Sigmoid()),\n",
    "    ('output_net', nn.Linear(16,2)),\n",
    "    ('output_act', nn.Sigmoid())\n",
    "]))"
   ]
  },
  {
   "cell_type": "code",
   "execution_count": 3,
   "id": "98f04c85-08ba-481f-9923-e2bcdf45b889",
   "metadata": {},
   "outputs": [
    {
     "name": "stdout",
     "output_type": "stream",
     "text": [
      "Sequential(\n",
      "  (hidden_net): Linear(in_features=2, out_features=32, bias=True)\n",
      "  (hidden_act): Sigmoid()\n",
      "  (output_net): Linear(in_features=32, out_features=2, bias=True)\n",
      "  (output_act): Sigmoid()\n",
      ")\n",
      "Sequential(\n",
      "  (hidden_net): Linear(in_features=2, out_features=8, bias=True)\n",
      "  (hidden_act): ReLU()\n",
      "  (output_net): Linear(in_features=8, out_features=2, bias=True)\n",
      "  (output_act): Sigmoid()\n",
      ")\n",
      "Sequential(\n",
      "  (hidden_net): Linear(in_features=2, out_features=16, bias=True)\n",
      "  (hidden_act): Sigmoid()\n",
      "  (output_net): Linear(in_features=16, out_features=2, bias=True)\n",
      "  (output_act): Sigmoid()\n",
      ")\n"
     ]
    }
   ],
   "source": [
    "print(model1)\n",
    "print(model2)\n",
    "print(model3)"
   ]
  },
  {
   "cell_type": "code",
   "execution_count": 4,
   "id": "276ed967-fb9b-4a65-8e07-a9f5a1a38432",
   "metadata": {},
   "outputs": [
    {
     "name": "stdout",
     "output_type": "stream",
     "text": [
      "tensor([[0., 0.],\n",
      "        [0., 1.],\n",
      "        [1., 0.],\n",
      "        [1., 1.]])\n"
     ]
    }
   ],
   "source": [
    "data_in = torch.tensor([[0, 0], [0, 1], [1, 0], [1, 1]], dtype=torch.float)\n",
    "print(data_in)"
   ]
  },
  {
   "cell_type": "code",
   "execution_count": 5,
   "id": "754a3c34-21f7-4ed9-8247-827f51ee2b2d",
   "metadata": {},
   "outputs": [
    {
     "name": "stdout",
     "output_type": "stream",
     "text": [
      "tensor([[0., 0.],\n",
      "        [0., 1.],\n",
      "        [0., 1.],\n",
      "        [1., 0.]])\n"
     ]
    }
   ],
   "source": [
    "data_target = torch.tensor([[0, 0], [0, 1], [0, 1], [1, 0]], dtype=torch.float)\n",
    "print(data_target)"
   ]
  },
  {
   "cell_type": "code",
   "execution_count": 6,
   "id": "5cbb7516-28f1-4bb2-ab3f-d59063df3e40",
   "metadata": {},
   "outputs": [],
   "source": [
    "criterion1 = nn.MSELoss()\n",
    "optimizer1 = torch.optim.Adam(model1.parameters(), lr=0.01)\n",
    "criterion2 = nn.CrossEntropyLoss()\n",
    "optimizer2 = torch.optim.SGD(model2.parameters(), lr=0.01, momentum=0.9)\n",
    "criterion3 = nn.L1Loss()\n",
    "optimizer3 = torch.optim.SGD(model3.parameters(), lr=0.01, momentum=0.9)"
   ]
  },
  {
   "cell_type": "code",
   "execution_count": 7,
   "id": "37865701-df6f-44ea-8729-7cb405853ab0",
   "metadata": {},
   "outputs": [],
   "source": [
    "def train(model, inputs, outputs, criterion, optimizer):\n",
    "    for epoch in range(100):\n",
    "        optimizer.zero_grad()\n",
    "        loss = criterion(model(inputs), outputs)\n",
    "        loss.backward()\n",
    "        optimizer.step()"
   ]
  },
  {
   "cell_type": "code",
   "execution_count": 8,
   "id": "186b4d3c-231a-4445-b808-bbf34a611ae2",
   "metadata": {},
   "outputs": [
    {
     "name": "stdout",
     "output_type": "stream",
     "text": [
      "tensor([[0., 0.],\n",
      "        [0., 1.],\n",
      "        [0., 1.],\n",
      "        [1., 0.]])\n",
      "Training Accuracy: 100.0\n",
      "tensor([[0., 1.],\n",
      "        [0., 1.],\n",
      "        [0., 1.],\n",
      "        [0., 1.]])\n",
      "Training Accuracy: 62.5\n",
      "tensor([[0., 1.],\n",
      "        [0., 1.],\n",
      "        [0., 1.],\n",
      "        [0., 1.]])\n",
      "Training Accuracy: 62.5\n"
     ]
    }
   ],
   "source": [
    "for model in [model1, model2, model3]:\n",
    "    if model == model1:\n",
    "        criterion = criterion1\n",
    "        optimizer = optimizer1\n",
    "    if model == model2:\n",
    "        criterion = criterion2\n",
    "        optimizer = optimizer2\n",
    "    if model == model3:\n",
    "        criterion = criterion3\n",
    "        optimizer = optimizer3\n",
    "    train(model, data_in, data_target, criterion, optimizer)\n",
    "    outputs = model(data_in)\n",
    "    predicted = (outputs >=0.5).float()\n",
    "    print(predicted)\n",
    "    accuracy = (predicted == data_target).float().mean()\n",
    "    print(f'Training Accuracy: {accuracy.item()*100}')"
   ]
  },
  {
   "cell_type": "code",
   "execution_count": 9,
   "id": "b6e5bb0a-aec3-45a6-ac97-d66e21952430",
   "metadata": {},
   "outputs": [
    {
     "name": "stdout",
     "output_type": "stream",
     "text": [
      "Weight of network1 :\n",
      " Parameter containing:\n",
      "tensor([[-1.5832,  0.5899],\n",
      "        [-0.5482, -1.2400],\n",
      "        [-0.8949, -0.1814],\n",
      "        [-0.4022, -1.3632],\n",
      "        [-0.2604, -1.4232],\n",
      "        [-0.6266, -1.4479],\n",
      "        [-1.2226, -1.8005],\n",
      "        [-1.3858, -0.8732],\n",
      "        [-1.0015, -1.2994],\n",
      "        [-1.4872,  1.0885],\n",
      "        [-1.3479, -0.9300],\n",
      "        [ 1.2788,  0.5540],\n",
      "        [-1.2339, -0.9198],\n",
      "        [-1.5657, -1.6871],\n",
      "        [-1.3676, -0.2621],\n",
      "        [ 1.1781,  0.7543],\n",
      "        [ 1.5876, -1.8456],\n",
      "        [-1.3765, -0.4899],\n",
      "        [-0.1504, -0.3625],\n",
      "        [ 1.0624,  1.3164],\n",
      "        [ 1.1051,  0.8770],\n",
      "        [ 0.4576,  1.0997],\n",
      "        [ 0.7400, -1.8451],\n",
      "        [ 0.2642,  1.0642],\n",
      "        [-1.4382, -1.3577],\n",
      "        [-0.0282,  1.0266],\n",
      "        [ 1.1077,  0.4716],\n",
      "        [ 1.0138,  0.2779],\n",
      "        [ 1.5380,  0.5831],\n",
      "        [-0.9831, -1.4486],\n",
      "        [-1.4253, -0.9675],\n",
      "        [ 0.7420,  1.4859]], requires_grad=True)\n",
      "Weight of network2 :\n",
      " Parameter containing:\n",
      "tensor([[ 0.4435,  0.0021],\n",
      "        [ 0.3212, -0.3157],\n",
      "        [ 0.0746, -0.3512],\n",
      "        [-0.4725, -0.4205],\n",
      "        [ 0.4362,  0.5506],\n",
      "        [-0.2130,  0.3025],\n",
      "        [-0.5100,  0.1024],\n",
      "        [-0.6882,  0.5571]], requires_grad=True)\n",
      "Weight of network3 :\n",
      " Parameter containing:\n",
      "tensor([[ 0.0473,  0.0114],\n",
      "        [-0.0626, -0.0111],\n",
      "        [ 0.3065, -0.2024],\n",
      "        [ 0.2201, -0.2063],\n",
      "        [ 0.2234,  0.5504],\n",
      "        [ 0.5736, -0.1095],\n",
      "        [-0.0037, -0.5310],\n",
      "        [ 0.6601, -0.1539],\n",
      "        [-0.4419, -0.1610],\n",
      "        [ 0.2274, -0.5988],\n",
      "        [-0.4228, -0.3175],\n",
      "        [-0.5715,  0.5584],\n",
      "        [ 0.5871, -0.1845],\n",
      "        [-0.2437, -0.6731],\n",
      "        [ 0.6655,  0.0976],\n",
      "        [ 0.0136, -0.0785]], requires_grad=True)\n"
     ]
    }
   ],
   "source": [
    "print('Weight of network1 :\\n',model1[0].weight)\n",
    "print('Weight of network2 :\\n',model2[0].weight)\n",
    "print('Weight of network3 :\\n',model3[0].weight)"
   ]
  },
  {
   "cell_type": "code",
   "execution_count": null,
   "id": "d699898d-1f38-483d-b423-feb1d3a21d28",
   "metadata": {},
   "outputs": [],
   "source": []
  }
 ],
 "metadata": {
  "kernelspec": {
   "display_name": "Python 3 (ipykernel)",
   "language": "python",
   "name": "python3"
  },
  "language_info": {
   "codemirror_mode": {
    "name": "ipython",
    "version": 3
   },
   "file_extension": ".py",
   "mimetype": "text/x-python",
   "name": "python",
   "nbconvert_exporter": "python",
   "pygments_lexer": "ipython3",
   "version": "3.11.8"
  }
 },
 "nbformat": 4,
 "nbformat_minor": 5
}
