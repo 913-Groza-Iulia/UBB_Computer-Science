{
 "cells": [
  {
   "cell_type": "code",
   "execution_count": 1,
   "id": "70116429-a9a1-464b-b5a8-095fe6f2ebbe",
   "metadata": {},
   "outputs": [],
   "source": [
    "import numpy as np\n",
    "import matplotlib as plt"
   ]
  },
  {
   "cell_type": "code",
   "execution_count": 2,
   "id": "f6ad7654-87dc-4a49-b1d3-b9b2a43750bb",
   "metadata": {},
   "outputs": [
    {
     "name": "stdout",
     "output_type": "stream",
     "text": [
      "Generated index:  2\n"
     ]
    }
   ],
   "source": [
    "def generate_index(probs):\n",
    "    n=len(probs)\n",
    "    array=np.arange(n)\n",
    "    index=np.random.choice(array,p=probs)\n",
    "    return index\n",
    "\n",
    "probs=[0.1, 0.3, 0.4, 0.2]\n",
    "index=generate_index(probs)\n",
    "print(\"Generated index: \",index)"
   ]
  },
  {
   "cell_type": "code",
   "execution_count": null,
   "id": "325e7ccd-9a82-448d-99b8-ef03befa4508",
   "metadata": {},
   "outputs": [],
   "source": []
  }
 ],
 "metadata": {
  "kernelspec": {
   "display_name": "Python 3 (ipykernel)",
   "language": "python",
   "name": "python3"
  },
  "language_info": {
   "codemirror_mode": {
    "name": "ipython",
    "version": 3
   },
   "file_extension": ".py",
   "mimetype": "text/x-python",
   "name": "python",
   "nbconvert_exporter": "python",
   "pygments_lexer": "ipython3",
   "version": "3.11.8"
  }
 },
 "nbformat": 4,
 "nbformat_minor": 5
}
