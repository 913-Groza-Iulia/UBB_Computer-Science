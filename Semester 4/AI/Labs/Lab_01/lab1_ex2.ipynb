{
 "cells": [
  {
   "cell_type": "code",
   "execution_count": 1,
   "id": "ea6716fc-9f4b-41d0-a798-b3f899326b64",
   "metadata": {},
   "outputs": [],
   "source": [
    "import numpy as np\n",
    "import matplotlib as mpl"
   ]
  },
  {
   "cell_type": "code",
   "execution_count": 2,
   "id": "c4494480-064c-4caa-bbb0-c91a0fdcd70a",
   "metadata": {},
   "outputs": [
    {
     "name": "stdout",
     "output_type": "stream",
     "text": [
      "Monte Carlo Simulation Probability: 0.28275\n",
      "Mathematically Deduced Probability: 0.2827433388230814\n"
     ]
    }
   ],
   "source": [
    "def monte_carlo_simulation(num_points, R, l, r):\n",
    "    num_inside_pipe = 0\n",
    "    for _ in range(num_points):\n",
    "        x = np.random.uniform(-l/2, l/2)  \n",
    "        y = np.random.uniform(-l/2, l/2) \n",
    "        if x**2 + y**2 <= R**2: \n",
    "            num_inside_pipe += 1 \n",
    "\n",
    "    probability_inside_pipe = num_inside_pipe / num_points\n",
    "    return probability_inside_pipe\n",
    "\n",
    "R = 30 \n",
    "l = 100  \n",
    "r = 1  \n",
    "num_points = 1000000  \n",
    "\n",
    "probability_math = np.pi * R**2 / l**2\n",
    "probability_mc = monte_carlo_simulation(num_points, R, l, r)\n",
    "\n",
    "print(\"Monte Carlo Simulation Probability:\", probability_mc)\n",
    "print(\"Mathematically Deduced Probability:\",probability_math)"
   ]
  },
  {
   "cell_type": "code",
   "execution_count": null,
   "id": "7b3be38f-c9bb-4403-9f29-6e80162b60c9",
   "metadata": {},
   "outputs": [],
   "source": []
  }
 ],
 "metadata": {
  "kernelspec": {
   "display_name": "Python 3 (ipykernel)",
   "language": "python",
   "name": "python3"
  },
  "language_info": {
   "codemirror_mode": {
    "name": "ipython",
    "version": 3
   },
   "file_extension": ".py",
   "mimetype": "text/x-python",
   "name": "python",
   "nbconvert_exporter": "python",
   "pygments_lexer": "ipython3",
   "version": "3.11.8"
  }
 },
 "nbformat": 4,
 "nbformat_minor": 5
}
