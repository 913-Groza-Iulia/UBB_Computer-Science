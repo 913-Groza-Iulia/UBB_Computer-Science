{
 "cells": [
  {
   "cell_type": "code",
   "execution_count": 1,
   "id": "37fb9d84-b49a-4f8c-ba24-09c2f4416054",
   "metadata": {},
   "outputs": [],
   "source": [
    "import numpy as np\n",
    "import matplotlib as mpl"
   ]
  },
  {
   "cell_type": "code",
   "execution_count": 2,
   "id": "186a417c-9b82-487f-9783-c30c8e19871f",
   "metadata": {},
   "outputs": [
    {
     "name": "stdout",
     "output_type": "stream",
     "text": [
      "Generated index:  0\n"
     ]
    }
   ],
   "source": [
    "def generate_index1(degrees):\n",
    "    total_degrees=sum(degrees)\n",
    "    prob_degrees=[deg/sum(degrees) for deg in degrees]\n",
    "    n=len(degrees)\n",
    "    array=np.arange(n)\n",
    "    index=np.random.choice(array, p=prob_degrees)\n",
    "    return index\n",
    "\n",
    "degrees=[45, 85, 70, 160]\n",
    "index=generate_index1(degrees)\n",
    "print(\"Generated index: \",index)"
   ]
  },
  {
   "cell_type": "code",
   "execution_count": null,
   "id": "811998b6-8b11-4b4e-9563-10bb9445b20f",
   "metadata": {},
   "outputs": [],
   "source": []
  }
 ],
 "metadata": {
  "kernelspec": {
   "display_name": "Python 3 (ipykernel)",
   "language": "python",
   "name": "python3"
  },
  "language_info": {
   "codemirror_mode": {
    "name": "ipython",
    "version": 3
   },
   "file_extension": ".py",
   "mimetype": "text/x-python",
   "name": "python",
   "nbconvert_exporter": "python",
   "pygments_lexer": "ipython3",
   "version": "3.11.8"
  }
 },
 "nbformat": 4,
 "nbformat_minor": 5
}
