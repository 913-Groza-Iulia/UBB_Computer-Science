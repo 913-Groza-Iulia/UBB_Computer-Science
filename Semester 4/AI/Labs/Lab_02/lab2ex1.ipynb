{
 "cells": [
  {
   "cell_type": "code",
   "execution_count": 1,
   "id": "b5cd26c9-df5f-4508-9ace-baa130822862",
   "metadata": {},
   "outputs": [],
   "source": [
    "import numpy as np\n",
    "import scipy as sp\n",
    "import matplotlib as mpl\n",
    "import matplotlib.cm as cm\n",
    "import matplotlib.pyplot as plt\n",
    "import pandas as pd\n",
    "from sklearn import preprocessing\n",
    "from sklearn.preprocessing import LabelEncoder, StandardScaler"
   ]
  },
  {
   "cell_type": "code",
   "execution_count": 2,
   "id": "03a7789d-c29f-4d25-a304-5b9ddebe7267",
   "metadata": {},
   "outputs": [],
   "source": [
    "telco_data = pd.read_csv(\"Downloads/WA_Fn-UseC_-Telco-Customer-Churn.csv\")\n",
    "dataframe.dropna(inplace=True)"
   ]
  },
  {
   "cell_type": "code",
   "execution_count": 3,
   "id": "8bc71f55-8446-4b78-951f-4be41d195c33",
   "metadata": {},
   "outputs": [
    {
     "name": "stdout",
     "output_type": "stream",
     "text": [
      "   customerID  gender  SeniorCitizen  Partner  Dependents    tenure  \\\n",
      "0      5375.0     0.0            0.0      1.0         0.0 -1.277445   \n",
      "1      3962.0     1.0            0.0      0.0         0.0  0.066327   \n",
      "2      2564.0     1.0            0.0      0.0         0.0 -1.236724   \n",
      "3      5535.0     1.0            0.0      0.0         0.0  0.514251   \n",
      "4      6511.0     0.0            0.0      0.0         0.0 -1.236724   \n",
      "\n",
      "   PhoneService  MultipleLines  InternetService  OnlineSecurity  ...  \\\n",
      "0           0.0            1.0              0.0             0.0  ...   \n",
      "1           1.0            0.0              0.0             2.0  ...   \n",
      "2           1.0            0.0              0.0             2.0  ...   \n",
      "3           0.0            1.0              0.0             2.0  ...   \n",
      "4           1.0            0.0              1.0             0.0  ...   \n",
      "\n",
      "   DeviceProtection  TechSupport  StreamingTV  StreamingMovies  Contract  \\\n",
      "0               0.0          0.0          0.0              0.0       0.0   \n",
      "1               2.0          0.0          0.0              0.0       1.0   \n",
      "2               0.0          0.0          0.0              0.0       0.0   \n",
      "3               2.0          2.0          0.0              0.0       1.0   \n",
      "4               0.0          0.0          0.0              0.0       0.0   \n",
      "\n",
      "   PaperlessBilling  PaymentMethod  MonthlyCharges  TotalCharges  Churn  \n",
      "0               1.0            2.0       -1.131766     -0.398608    0.0  \n",
      "1               0.0            3.0       -0.387740     -0.948762    0.0  \n",
      "2               1.0            3.0       -0.517317     -1.641883    1.0  \n",
      "3               0.0            0.0       -0.872611     -0.983710    0.0  \n",
      "4               1.0            2.0        0.095041     -1.235224    1.0  \n",
      "\n",
      "[5 rows x 21 columns]\n"
     ]
    }
   ],
   "source": [
    "features_to_encode = ['customerID', 'gender', 'SeniorCitizen', 'Partner', 'Dependents', 'tenure', 'PhoneService', 'MultipleLines', \n",
    "                     'InternetService', 'OnlineSecurity', 'OnlineBackup','DeviceProtection','TechSupport','StreamingTV',\n",
    "                     'StreamingMovies', 'Contract', 'PaperlessBilling', 'PaymentMethod','MonthlyCharges','TotalCharges',\n",
    "                     'Churn']\n",
    "enc = preprocessing.OrdinalEncoder()\n",
    "telco_data[features_to_encode] = enc.fit_transform(telco_data[features_to_encode])\n",
    "numerical_features = ['tenure', 'MonthlyCharges', 'TotalCharges']\n",
    "scaler = StandardScaler()\n",
    "telco_data[numerical_features] = scaler.fit_transform(telco_data[numerical_features])\n",
    "\n",
    "print(telco_data.head())"
   ]
  },
  {
   "cell_type": "code",
   "execution_count": null,
   "id": "4115d23e-f3a5-438a-9b13-f17eaefe455d",
   "metadata": {},
   "outputs": [],
   "source": []
  }
 ],
 "metadata": {
  "kernelspec": {
   "display_name": "Python 3 (ipykernel)",
   "language": "python",
   "name": "python3"
  },
  "language_info": {
   "codemirror_mode": {
    "name": "ipython",
    "version": 3
   },
   "file_extension": ".py",
   "mimetype": "text/x-python",
   "name": "python",
   "nbconvert_exporter": "python",
   "pygments_lexer": "ipython3",
   "version": "3.11.8"
  }
 },
 "nbformat": 4,
 "nbformat_minor": 5
}
