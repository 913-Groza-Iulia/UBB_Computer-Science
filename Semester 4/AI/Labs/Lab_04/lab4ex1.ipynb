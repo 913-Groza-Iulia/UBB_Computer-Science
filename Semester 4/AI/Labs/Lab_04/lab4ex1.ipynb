{
 "cells": [
  {
   "cell_type": "code",
   "execution_count": 3,
   "id": "e81e68f2-d022-456f-9b67-5a285657a776",
   "metadata": {},
   "outputs": [],
   "source": [
    "import torch\n",
    "import math"
   ]
  },
  {
   "cell_type": "code",
   "execution_count": 6,
   "id": "9bbf4d3d-8e68-4573-a2ee-0a0cdfd67654",
   "metadata": {},
   "outputs": [
    {
     "name": "stdout",
     "output_type": "stream",
     "text": [
      "Gradient at x=0: 0.25\n",
      "Gradient at x=1: 0.1966119408607483\n",
      "Gradient at x=0: 0.25\n",
      "Gradient at x=1: 0.1966119259595871\n"
     ]
    }
   ],
   "source": [
    "#define the sigmoid function\n",
    "def sigmoid(x):\n",
    "    return 1 / (1 + torch.exp(-x))\n",
    "\n",
    "#define the sigmoid's gradient\n",
    "def sigmoid_gradient(x):\n",
    "    return sigmoid(x) * (1 - sigmoid(x))\n",
    "\n",
    "#test the gradient at x=0 and x=1\n",
    "x1 = torch.tensor([0.0], requires_grad=True)\n",
    "x2 = torch.tensor([1.0], requires_grad=True)\n",
    "\n",
    "#compute the gradients using PyTorch\n",
    "y1 = sigmoid(x1)\n",
    "y2 = sigmoid(x2)\n",
    "\n",
    "y1.backward()\n",
    "y2.backward()\n",
    "\n",
    "print(f\"Gradient at x=0: {x1.grad.item()}\")  \n",
    "print(f\"Gradient at x=1: {x2.grad.item()}\")  \n",
    "\n",
    "print(f\"Gradient at x=0: {sigmoid_gradient(torch.tensor([0.0])).item()}\")  \n",
    "print(f\"Gradient at x=1: {sigmoid_gradient(torch.tensor([1.0])).item()}\") "
   ]
  },
  {
   "cell_type": "code",
   "execution_count": null,
   "id": "1c52ee04-2253-4358-ad4f-b80c1a719ac0",
   "metadata": {},
   "outputs": [],
   "source": []
  }
 ],
 "metadata": {
  "kernelspec": {
   "display_name": "Python 3 (ipykernel)",
   "language": "python",
   "name": "python3"
  },
  "language_info": {
   "codemirror_mode": {
    "name": "ipython",
    "version": 3
   },
   "file_extension": ".py",
   "mimetype": "text/x-python",
   "name": "python",
   "nbconvert_exporter": "python",
   "pygments_lexer": "ipython3",
   "version": "3.11.8"
  }
 },
 "nbformat": 4,
 "nbformat_minor": 5
}
